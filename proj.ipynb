{
 "cells": [
  {
   "cell_type": "code",
   "execution_count": 47,
   "metadata": {},
   "outputs": [],
   "source": [
    "import pandas as pd\n",
    "import seaborn as sns\n",
    "import numpy as np\n",
    "import warnings\n",
    "import os"
   ]
  },
  {
   "cell_type": "code",
   "execution_count": null,
   "metadata": {},
   "outputs": [],
   "source": [
    "# print all the outputs in a cell\n",
    "from IPython.core.interactiveshell import InteractiveShell\n",
    "InteractiveShell.ast_node_interactivity = \"all\""
   ]
  },
  {
   "cell_type": "code",
   "execution_count": 4,
   "metadata": {},
   "outputs": [],
   "source": [
    "cityDf = pd.read_csv('city_info.csv', index_col=0)"
   ]
  },
  {
   "cell_type": "code",
   "execution_count": null,
   "metadata": {},
   "outputs": [],
   "source": [
    "cityDf.head()\n"
   ]
  },
  {
   "cell_type": "code",
   "execution_count": null,
   "metadata": {},
   "outputs": [],
   "source": [
    "# get all the file names in the directory\n",
    "files = os.listdir('rain_data')\n",
    "#For all the file in the rain_data directory, drop the 'Unnamed 0' column, and change Date column name to Local Date\n",
    "for file in files:\n",
    "    df = pd.read_csv('rain_data/' + file)\n",
    "    df.drop('Unnamed: 0', axis=1, inplace=True)\n",
    "    df.rename(columns={'Date': 'Date Local'}, inplace=True)\n",
    "    df.to_csv('rain_data/' + file, index=False)\n"
   ]
  },
  {
   "cell_type": "code",
   "execution_count": null,
   "metadata": {},
   "outputs": [],
   "source": [
    "# pip install folium\n",
    "import folium\n",
    "\n",
    "# Create a map centered around the average latitude and longitude\n",
    "map_center = [df['Lat'].mean(), df['Lon'].mean()]\n",
    "m = folium.Map(location=map_center, zoom_start=5)\n",
    "\n",
    "# Add markers for each location in the dataframe\n",
    "for idx, row in df.iterrows():\n",
    "    folium.Marker([row['Lat'], row['Lon']], popup=row['Name']).add_to(m)\n",
    "\n",
    "# Display the map\n",
    "m"
   ]
  },
  {
   "cell_type": "code",
   "execution_count": 63,
   "metadata": {},
   "outputs": [],
   "source": [
    "#For all the csvs in the rain_data folder, I want to eliminate all rows with date < 1980-01-01\n",
    "import os\n",
    "import glob\n",
    "import pandas as pd\n",
    "import numpy as np\n",
    "\n",
    "path = 'rain_data'\n",
    "all_files = glob.glob(os.path.join(path, \"*.csv\"))\n",
    "\n",
    "for file in all_files:\n",
    "    df = pd.read_csv(file)\n",
    "    df = df[df['Date Local'] >= '2010-01-01']\n",
    "    df.to_csv(file, index=False)\n",
    "\n",
    "\n"
   ]
  },
  {
   "cell_type": "code",
   "execution_count": 191,
   "metadata": {},
   "outputs": [
    {
     "name": "stderr",
     "output_type": "stream",
     "text": [
      "/var/folders/kd/2c5f0yd15v354rgh5wxlmmnm0000gn/T/ipykernel_21504/4044732196.py:4: DtypeWarning: Columns (0,13) have mixed types. Specify dtype option on import or set low_memory=False.\n",
      "  ozoneDf = pd.read_csv('Ozone1997.csv')\n"
     ]
    }
   ],
   "source": [
    "import pandas as pd\n",
    "\n",
    "# Read the CSV\n",
    "ozoneDf = pd.read_csv('Ozone1997.csv')\n",
    "#filter city name Los Angeles, Phoenix, New York, Philadelphia, Washington,\n",
    "#Salt Lake City, Atlanta, Miami, Chicago, Boston\n",
    "\n",
    "ozoneDf = ozoneDf[ozoneDf['City Name'].isin(['Los Angeles', 'Phoenix', 'New York', 'Philadelphia', 'Washington', 'Salt Lake City', 'Atlanta', 'Miami', 'Chicago', 'Boston'])]\n",
    "# Keep only selected columns\n",
    "ozoneDf = ozoneDf[['Date Local', 'Arithmetic Mean', 'State Name', 'City Name', 'Site Num']]\n",
    "# Rename 'Arithmetic Mean' to 'Ozone Arithmetic Mean'\n",
    "ozoneDf.rename(columns={'Arithmetic Mean': 'Ozone Arithmetic Mean'}, inplace=True)\n",
    "ozoneDf.to_csv('Ozone1997.csv', index=False)\n"
   ]
  },
  {
   "cell_type": "code",
   "execution_count": 192,
   "metadata": {},
   "outputs": [
    {
     "name": "stderr",
     "output_type": "stream",
     "text": [
      "/var/folders/kd/2c5f0yd15v354rgh5wxlmmnm0000gn/T/ipykernel_21504/430541558.py:4: DtypeWarning: Columns (13,27) have mixed types. Specify dtype option on import or set low_memory=False.\n",
      "  carbonDf = pd.read_csv('Carbon1997.csv')\n"
     ]
    }
   ],
   "source": [
    "import pandas as pd\n",
    "\n",
    "# Read the CSV\n",
    "carbonDf = pd.read_csv('Carbon1997.csv')\n",
    "#filter city name Los Angeles, Phoenix, New York, Philadelphia, Washington,\n",
    "#Salt Lake City, Atlanta, Miami, Chicago, Boston\n",
    "\n",
    "carbonDf = carbonDf[carbonDf['City Name'].isin(['Los Angeles', 'Phoenix', 'New York', 'Philadelphia', 'Washington', 'Salt Lake City', 'Atlanta', 'Miami', 'Chicago', 'Boston'])]\n",
    "# Keep only selected columns\n",
    "carbonDf = carbonDf[['Date Local', 'Arithmetic Mean', 'State Name', 'City Name', 'Site Num']]\n",
    "# Rename 'Arithmetic Mean' to 'Carbon Arithmetic Mean'\n",
    "carbonDf.rename(columns={'Arithmetic Mean': 'Carbon Arithmetic Mean'}, inplace=True)\n",
    "carbonDf.to_csv('Carbon1997.csv', index=False)"
   ]
  },
  {
   "cell_type": "code",
   "execution_count": 195,
   "metadata": {},
   "outputs": [],
   "source": [
    "import pandas as pd\n",
    "\n",
    "# Load the dataframes\n",
    "ozoneDf = pd.read_csv('Ozone1997.csv')\n",
    "coTwoDf = pd.read_csv('Carbon1997.csv')\n",
    "\n",
    "# Merge the dataframes on 'Date Local' and 'City Name', but keep only the matching 'Site Num'\n",
    "mergedDf = pd.merge(ozoneDf, coTwoDf, on=['Date Local', 'City Name', 'Site Num'], how='inner')\n",
    "\n",
    "mergedDf.to_csv('mergedData.csv', index=False)"
   ]
  },
  {
   "cell_type": "code",
   "execution_count": 196,
   "metadata": {},
   "outputs": [
    {
     "data": {
      "text/html": [
       "<div>\n",
       "<style scoped>\n",
       "    .dataframe tbody tr th:only-of-type {\n",
       "        vertical-align: middle;\n",
       "    }\n",
       "\n",
       "    .dataframe tbody tr th {\n",
       "        vertical-align: top;\n",
       "    }\n",
       "\n",
       "    .dataframe thead th {\n",
       "        text-align: right;\n",
       "    }\n",
       "</style>\n",
       "<table border=\"1\" class=\"dataframe\">\n",
       "  <thead>\n",
       "    <tr style=\"text-align: right;\">\n",
       "      <th></th>\n",
       "      <th>Date Local</th>\n",
       "      <th>Ozone Arithmetic Mean</th>\n",
       "      <th>State Name</th>\n",
       "      <th>City Name</th>\n",
       "      <th>Site Num</th>\n",
       "      <th>Carbon Arithmetic Mean</th>\n",
       "    </tr>\n",
       "  </thead>\n",
       "  <tbody>\n",
       "    <tr>\n",
       "      <th>0</th>\n",
       "      <td>1997-01-01</td>\n",
       "      <td>0.012824</td>\n",
       "      <td>Arizona</td>\n",
       "      <td>Phoenix</td>\n",
       "      <td>13</td>\n",
       "      <td>1.826087</td>\n",
       "    </tr>\n",
       "    <tr>\n",
       "      <th>1</th>\n",
       "      <td>1997-01-01</td>\n",
       "      <td>0.012824</td>\n",
       "      <td>Arizona</td>\n",
       "      <td>Phoenix</td>\n",
       "      <td>13</td>\n",
       "      <td>1.600000</td>\n",
       "    </tr>\n",
       "    <tr>\n",
       "      <th>2</th>\n",
       "      <td>1997-01-02</td>\n",
       "      <td>0.011765</td>\n",
       "      <td>Arizona</td>\n",
       "      <td>Phoenix</td>\n",
       "      <td>13</td>\n",
       "      <td>1.713636</td>\n",
       "    </tr>\n",
       "    <tr>\n",
       "      <th>3</th>\n",
       "      <td>1997-01-02</td>\n",
       "      <td>0.011765</td>\n",
       "      <td>Arizona</td>\n",
       "      <td>Phoenix</td>\n",
       "      <td>13</td>\n",
       "      <td>1.662500</td>\n",
       "    </tr>\n",
       "    <tr>\n",
       "      <th>4</th>\n",
       "      <td>1997-01-03</td>\n",
       "      <td>0.007882</td>\n",
       "      <td>Arizona</td>\n",
       "      <td>Phoenix</td>\n",
       "      <td>13</td>\n",
       "      <td>1.839130</td>\n",
       "    </tr>\n",
       "  </tbody>\n",
       "</table>\n",
       "</div>"
      ],
      "text/plain": [
       "   Date Local  Ozone Arithmetic Mean State Name City Name  Site Num  \\\n",
       "0  1997-01-01               0.012824    Arizona   Phoenix        13   \n",
       "1  1997-01-01               0.012824    Arizona   Phoenix        13   \n",
       "2  1997-01-02               0.011765    Arizona   Phoenix        13   \n",
       "3  1997-01-02               0.011765    Arizona   Phoenix        13   \n",
       "4  1997-01-03               0.007882    Arizona   Phoenix        13   \n",
       "\n",
       "   Carbon Arithmetic Mean  \n",
       "0                1.826087  \n",
       "1                1.600000  \n",
       "2                1.713636  \n",
       "3                1.662500  \n",
       "4                1.839130  "
      ]
     },
     "execution_count": 196,
     "metadata": {},
     "output_type": "execute_result"
    }
   ],
   "source": [
    "#Drop State_Name_y column\n",
    "mergedDf.drop('State Name_y', axis=1, inplace=True)\n",
    "#rename State_Name_x to State Name\n",
    "mergedDf.rename(columns={'State Name_x': 'State Name'}, inplace=True)\n",
    "mergedDf.to_csv('mergedData.csv', index=False)\n",
    "mergedDf.head()"
   ]
  },
  {
   "cell_type": "code",
   "execution_count": 190,
   "metadata": {},
   "outputs": [
    {
     "name": "stderr",
     "output_type": "stream",
     "text": [
      "/var/folders/kd/2c5f0yd15v354rgh5wxlmmnm0000gn/T/ipykernel_21504/4036105860.py:1: DtypeWarning: Columns (6,7) have mixed types. Specify dtype option on import or set low_memory=False.\n",
      "  existingMerge = pd.read_csv('finalDf.csv')\n"
     ]
    }
   ],
   "source": [
    "existingMerge = pd.read_csv('finalDf.csv')\n",
    "otherMerge = pd.read_csv('mergedData.csv')\n",
    "\n",
    "#Concatenate the two dataframes\n",
    "finalMerge = pd.concat([otherMerge, existingMerge])\n",
    "\n",
    "#Drop duplicates\n",
    "finalMerge.drop_duplicates(inplace=True)\n",
    "\n",
    "#Write to CSV\n",
    "finalMerge.to_csv('finalDf.csv', index=False)"
   ]
  },
  {
   "cell_type": "code",
   "execution_count": null,
   "metadata": {},
   "outputs": [],
   "source": [
    "#filter city name Los Angeles, Phoenix, New York, Philadelphia, Washington,\n",
    "#Salt Lake City, Miami, Boston"
   ]
  },
  {
   "cell_type": "code",
   "execution_count": 199,
   "metadata": {},
   "outputs": [
    {
     "name": "stdout",
     "output_type": "stream",
     "text": [
      "Phoenix\n",
      "Los Angeles\n",
      "Washington\n",
      "Boston\n",
      "New York\n",
      "Miami\n",
      "Philadelphia\n",
      "Salt Lake City\n"
     ]
    }
   ],
   "source": [
    "finalDf = pd.read_csv('finalDf.csv')\n",
    "#how many unique City Name in the finalDf and what are they?\n",
    "uniqueCityNames = finalDf['City Name'].unique()\n",
    "for i in uniqueCityNames:\n",
    "    print(i)    "
   ]
  },
  {
   "cell_type": "code",
   "execution_count": 203,
   "metadata": {},
   "outputs": [],
   "source": [
    "import os\n",
    "# get all the file names in the directory\n",
    "files = os.listdir('rain_data')\n",
    "\n",
    "#for all the files in the rain_data directory, eliminate all rows with date < 2001-01-01\n",
    "for file in files:\n",
    "    df = pd.read_csv('rain_data/' + file)\n",
    "    df = df[df['Date Local'] >= '2001-01-01']\n",
    "    df.to_csv('rain_data/' + file, index=False)\n"
   ]
  },
  {
   "cell_type": "code",
   "execution_count": 218,
   "metadata": {},
   "outputs": [
    {
     "name": "stderr",
     "output_type": "stream",
     "text": [
      "/var/folders/kd/2c5f0yd15v354rgh5wxlmmnm0000gn/T/ipykernel_21504/3677753946.py:1: DtypeWarning: Columns (2,6) have mixed types. Specify dtype option on import or set low_memory=False.\n",
      "  finalDf = pd.read_csv('finalDf.csv')\n"
     ]
    }
   ],
   "source": [
    "finalDf = pd.read_csv('finalDf.csv')\n",
    "#Drop columns State Name_x and State Name_y, State Name\n",
    "finalDf.drop(['State Name_x', 'State Name_y'], axis=1, inplace=True)\n",
    "#drop rows with NaN values\n",
    "finalDf.dropna(inplace=True)\n",
    "#Write to CSV\n",
    "finalDf.to_csv('finalDf.csv', index=False)"
   ]
  },
  {
   "cell_type": "code",
   "execution_count": 221,
   "metadata": {},
   "outputs": [],
   "source": [
    "#concatenate all the rain data files into one dataframe\n",
    "import os\n",
    "import pandas as pd\n",
    "import glob\n",
    "\n",
    "\n",
    "path = 'rain_data'\n",
    "all_files = glob.glob(os.path.join(path, \"*.csv\"))\n",
    "\n",
    "weather_data = pd.concat([pd.read_csv(file) for file in all_files], ignore_index=True)\n",
    "\n",
    "weather_data.to_csv('weather_data.csv', index=False)\n",
    "\n",
    "\n"
   ]
  },
  {
   "cell_type": "code",
   "execution_count": 222,
   "metadata": {},
   "outputs": [],
   "source": [
    "#Merge the weather data with the finalDf\n",
    "\n",
    "finalDf = pd.read_csv('finalDf.csv')\n",
    "weatherData = pd.read_csv('weather_data.csv')\n",
    "\n",
    "mergedDf = pd.merge(finalDf, weatherData, on=['Date Local', 'City Name'], how='inner')\n",
    "\n",
    "#Drop rows with NaN values\n",
    "mergedDf.dropna(inplace=True)\n",
    "\n",
    "#Write to CSV\n",
    "mergedDf.to_csv('mergedDf.csv', index=False)\n",
    "\n",
    "\n"
   ]
  }
 ],
 "metadata": {
  "kernelspec": {
   "display_name": "env",
   "language": "python",
   "name": "python3"
  },
  "language_info": {
   "codemirror_mode": {
    "name": "ipython",
    "version": 3
   },
   "file_extension": ".py",
   "mimetype": "text/x-python",
   "name": "python",
   "nbconvert_exporter": "python",
   "pygments_lexer": "ipython3",
   "version": "3.11.6"
  }
 },
 "nbformat": 4,
 "nbformat_minor": 2
}
